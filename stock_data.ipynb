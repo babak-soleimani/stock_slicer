{
 "cells": [
  {
   "cell_type": "markdown",
   "metadata": {},
   "source": [
    "### Import libraries"
   ]
  },
  {
   "cell_type": "code",
   "execution_count": 1,
   "metadata": {},
   "outputs": [],
   "source": [
    "try:\n",
    "  import yfinance as yf\n",
    "except:\n",
    "  !pip install yfinance\n",
    "  import yfinance as yf\n",
    "from datetime import date\n",
    "import datetime\n",
    "import pandas as pd"
   ]
  },
  {
   "cell_type": "markdown",
   "metadata": {},
   "source": [
    "**Downloding the data**"
   ]
  },
  {
   "cell_type": "code",
   "execution_count": 2,
   "metadata": {},
   "outputs": [],
   "source": [
    "# list of all stock\n",
    "ev_renewable = [\"SOLO\",\n",
    "\"BLNK\",\n",
    "\"PLUG\",\n",
    "\"BLDP\",\n",
    "\"FCEL\"\n",
    "]"
   ]
  },
  {
   "cell_type": "markdown",
   "metadata": {},
   "source": [
    "This module gives back the performance over the past days_back days"
   ]
  },
  {
   "cell_type": "markdown",
   "metadata": {},
   "source": [
    "## Downloading the data "
   ]
  },
  {
   "cell_type": "code",
   "execution_count": 3,
   "metadata": {},
   "outputs": [
    {
     "name": "stdout",
     "output_type": "stream",
     "text": [
      "[*********************100%***********************]  5 of 5 completed\n"
     ]
    }
   ],
   "source": [
    "# downloading data from Yahoo! Finance)\n",
    "data = yf.download(ev_renewable,'2020-01-01', date.today())"
   ]
  },
  {
   "cell_type": "code",
   "execution_count": 4,
   "metadata": {},
   "outputs": [],
   "source": [
    "def date_difference(date_1, date_2):\n",
    "    date_to_date = lambda date: ([date.split('-')[0], date.split('-')[1], date.split('-')[2]])\n",
    "    \n",
    "    day_1 = date_to_date(date_1)\n",
    "    day_2 = date_to_date(date_2)\n",
    "\n",
    "    date_diff = (date(int(day_2[0]), int(day_2[1]), int(day_2[2])) - date(int(day_1[0]), int(day_1[1]), int(day_1[2]))).days\n",
    "    return date_diff\n",
    "\n",
    "def trend_finder(date_1, date_2):\n",
    "    trend = ((data.loc[date_2][\"Close\"] - data.loc[date_1][\"Close\"]) / data.loc[date_1][\"Close\"]) * (100/date_difference(date_1, date_2))\n",
    "    return trend\n",
    "\n",
    "def day_by_day_record(df, count_back, interval, date = date.today()):\n",
    "\n",
    "    \"\"\"\n",
    "        Load database and tables\n",
    "        Args: \n",
    "            df (Pandas dataframe): data received from the Yahoo! API\n",
    "            count_back (Int): number of times to go back\n",
    "            interval (int): interval between days\n",
    "            date (DateTime): starting date of \n",
    "        Return:\n",
    "            X (pandas dataframe): A pandas dataframe showing the list of all stocks and their growth\n",
    "    \"\"\"\n",
    "    \n",
    "    # getting all active stock dates from the downloaded data\n",
    "    stock_active_dates = [str(date).split('T')[0] for date in list(df.index.values)]\n",
    "\n",
    "    T = 1\n",
    "    \n",
    "    # finding the first valid date\n",
    "    while True:\n",
    "        start_date = (date-datetime.timedelta(T)).strftime(\"%Y-%m-%d\")\n",
    "        \n",
    "        if start_date in stock_active_dates: \n",
    "            start_date = date-datetime.timedelta(T)\n",
    "            break\n",
    "        else:\n",
    "            T += 1\n",
    "    \n",
    "    # starting from start date and going back in time until we find enough valid dates\n",
    "            \n",
    "    valid_dates = [(date-datetime.timedelta(T)).strftime(\"%Y-%m-%d\")]    \n",
    "    \n",
    "    i = 1\n",
    "\n",
    "    while len(valid_dates) < count_back:\n",
    "        \n",
    "        # this day is closer to today\n",
    "        test_day = (start_date - datetime.timedelta(i*interval+1))\n",
    "\n",
    "        # checking if the day - interval was an active stock date\n",
    "        if test_day.strftime(\"%Y-%m-%d\") in stock_active_dates:\n",
    "            valid_dates.append(test_day.strftime(\"%Y-%m-%d\"))\n",
    "            \n",
    "        # fidning the closest day that works \n",
    "        else:\n",
    "            T = 1\n",
    "            \n",
    "            while True:\n",
    "                approx_date = (test_day - datetime.timedelta(T)).strftime(\"%Y-%m-%d\")\n",
    "\n",
    "\n",
    "\n",
    "                if approx_date in stock_active_dates: \n",
    "                    valid_dates.append(approx_date)\n",
    "                    break\n",
    "\n",
    "                else:\n",
    "                    T += 1\n",
    "                    \n",
    "        i += 1\n",
    "        \n",
    "    trends_dict = {}\n",
    "    for i in range(len(valid_dates)):\n",
    "        if i < len(valid_dates)-1:\n",
    "            date_1 = valid_dates[i]\n",
    "            date_2 = valid_dates[i+1]\n",
    "        \n",
    "        try:\n",
    "            trend = ((df.loc[date_2][\"Close\"] - df.loc[date_1][\"Close\"]) / df.loc[date_1][\"Close\"]) * (100/date_difference(date_1, date_2))\n",
    "\n",
    "            day_name = str(date_1) + '   ' + str(date_2)\n",
    "            trends_dict[day_name] = trend\n",
    "        except:\n",
    "            continue\n",
    "\n",
    "    trends_df = pd.DataFrame(trends_dict) \n",
    "\n",
    "    trends_df['average'] = trends_df.mean(axis=1)\n",
    "    trends_df['standard deviation'] = trends_df.std(axis=1)\n",
    "    # trends_df['normal average'] = trends_df['average'] / (trends_df['standard deviation']**2)  \n",
    "\n",
    "    return (trends_df)"
   ]
  },
  {
   "cell_type": "code",
   "execution_count": 7,
   "metadata": {},
   "outputs": [
    {
     "data": {
      "text/html": [
       "<div>\n",
       "<style scoped>\n",
       "    .dataframe tbody tr th:only-of-type {\n",
       "        vertical-align: middle;\n",
       "    }\n",
       "\n",
       "    .dataframe tbody tr th {\n",
       "        vertical-align: top;\n",
       "    }\n",
       "\n",
       "    .dataframe thead th {\n",
       "        text-align: right;\n",
       "    }\n",
       "</style>\n",
       "<table border=\"1\" class=\"dataframe\">\n",
       "  <thead>\n",
       "    <tr style=\"text-align: right;\">\n",
       "      <th></th>\n",
       "      <th>2021-01-15   2021-01-13</th>\n",
       "      <th>2021-01-13   2021-01-12</th>\n",
       "      <th>2021-01-12   2021-01-11</th>\n",
       "      <th>2021-01-11   2021-01-08</th>\n",
       "      <th>average</th>\n",
       "      <th>standard deviation</th>\n",
       "    </tr>\n",
       "  </thead>\n",
       "  <tbody>\n",
       "    <tr>\n",
       "      <th>BLDP</th>\n",
       "      <td>-9.325336</td>\n",
       "      <td>6.068893</td>\n",
       "      <td>15.715953</td>\n",
       "      <td>0.138120</td>\n",
       "      <td>3.149408</td>\n",
       "      <td>9.098469</td>\n",
       "    </tr>\n",
       "    <tr>\n",
       "      <th>BLNK</th>\n",
       "      <td>-3.938432</td>\n",
       "      <td>-2.952175</td>\n",
       "      <td>0.592624</td>\n",
       "      <td>5.185898</td>\n",
       "      <td>-0.278021</td>\n",
       "      <td>3.576386</td>\n",
       "    </tr>\n",
       "    <tr>\n",
       "      <th>FCEL</th>\n",
       "      <td>-10.416664</td>\n",
       "      <td>0.470220</td>\n",
       "      <td>17.322831</td>\n",
       "      <td>0.910054</td>\n",
       "      <td>2.071610</td>\n",
       "      <td>9.905433</td>\n",
       "    </tr>\n",
       "    <tr>\n",
       "      <th>PLUG</th>\n",
       "      <td>-7.781843</td>\n",
       "      <td>5.007199</td>\n",
       "      <td>18.252039</td>\n",
       "      <td>0.117351</td>\n",
       "      <td>3.898686</td>\n",
       "      <td>9.460190</td>\n",
       "    </tr>\n",
       "    <tr>\n",
       "      <th>SOLO</th>\n",
       "      <td>-3.973506</td>\n",
       "      <td>-8.834360</td>\n",
       "      <td>18.489288</td>\n",
       "      <td>2.259107</td>\n",
       "      <td>1.985132</td>\n",
       "      <td>10.308116</td>\n",
       "    </tr>\n",
       "  </tbody>\n",
       "</table>\n",
       "</div>"
      ],
      "text/plain": [
       "      2021-01-15   2021-01-13  2021-01-13   2021-01-12  \\\n",
       "BLDP                -9.325336                 6.068893   \n",
       "BLNK                -3.938432                -2.952175   \n",
       "FCEL               -10.416664                 0.470220   \n",
       "PLUG                -7.781843                 5.007199   \n",
       "SOLO                -3.973506                -8.834360   \n",
       "\n",
       "      2021-01-12   2021-01-11  2021-01-11   2021-01-08   average  \\\n",
       "BLDP                15.715953                 0.138120  3.149408   \n",
       "BLNK                 0.592624                 5.185898 -0.278021   \n",
       "FCEL                17.322831                 0.910054  2.071610   \n",
       "PLUG                18.252039                 0.117351  3.898686   \n",
       "SOLO                18.489288                 2.259107  1.985132   \n",
       "\n",
       "      standard deviation  \n",
       "BLDP            9.098469  \n",
       "BLNK            3.576386  \n",
       "FCEL            9.905433  \n",
       "PLUG            9.460190  \n",
       "SOLO           10.308116  "
      ]
     },
     "execution_count": 7,
     "metadata": {},
     "output_type": "execute_result"
    }
   ],
   "source": [
    "# day_by_day_record(df, count_back, interval, start date*default at today*)\n",
    "\n",
    "\n",
    "# THE CODE BELOW STARTS TODAY AND GOES BACK FOR 30 WEEKS (7 DAYS INTERVALS)\n",
    "# trends_dataframe_90 = day_by_day_record(data, 30, 7)\n",
    "\n",
    "# THE CODE BELOW STARTS TODAY AND GOES BACK FOR 12 MONTHS (30 DAYS INTERVALS)\n",
    "trends_dataframe_12_months = day_by_day_record(data, 12, 30)\n",
    "\n",
    "trends_dataframe_12_months "
   ]
  },
  {
   "cell_type": "code",
   "execution_count": null,
   "metadata": {},
   "outputs": [],
   "source": []
  }
 ],
 "metadata": {
  "kernelspec": {
   "display_name": "Python 3",
   "language": "python",
   "name": "python3"
  },
  "language_info": {
   "codemirror_mode": {
    "name": "ipython",
    "version": 3
   },
   "file_extension": ".py",
   "mimetype": "text/x-python",
   "name": "python",
   "nbconvert_exporter": "python",
   "pygments_lexer": "ipython3",
   "version": "3.8.3"
  }
 },
 "nbformat": 4,
 "nbformat_minor": 4
}
